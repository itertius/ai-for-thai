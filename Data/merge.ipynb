{
 "cells": [
  {
   "cell_type": "code",
   "execution_count": 9,
   "id": "4e7c2963",
   "metadata": {
    "vscode": {
     "languageId": "plaintext"
    }
   },
   "outputs": [],
   "source": [
    "import pandas as pd\n",
    "import numpy as np"
   ]
  },
  {
   "cell_type": "code",
   "execution_count": 24,
   "id": "7a30ce18-0b9b-4931-9567-bd90e1da17b2",
   "metadata": {},
   "outputs": [],
   "source": [
    "def merge(name: str, out: str):\n",
    "    data = pd.read_csv(name)\n",
    "    data['class'] = data['class'].str.replace('_up', '', regex=False).str.replace('_down', '', regex=False)\n",
    "    data.to_csv(out, index=False)"
   ]
  },
  {
   "cell_type": "code",
   "execution_count": 30,
   "id": "b9460248-92dd-4359-b4df-a611cb21a996",
   "metadata": {},
   "outputs": [
    {
     "name": "stdout",
     "output_type": "stream",
     "text": [
      "\u001b[1m\u001b[36mbenchpress\u001b[m\u001b[m  \u001b[1m\u001b[36mdeadlift\u001b[m\u001b[m    merge.ipynb \u001b[1m\u001b[36msquat\u001b[m\u001b[m\n",
      "benchpress_coords_merged.csv      benchpress_with_scaled_angles.csv\n",
      "benchpress_coords.csv\n",
      "deadlift_coords_merged.csv deadlift_coords.csv\n",
      "squat_coords_merged.csv squat_coords.csv\n"
     ]
    }
   ],
   "source": [
    "!ls\n",
    "!ls benchpress\n",
    "!ls deadlift\n",
    "!ls squat"
   ]
  },
  {
   "cell_type": "code",
   "execution_count": 29,
   "id": "999f481a-f78e-4af6-822b-df8a8bc187be",
   "metadata": {},
   "outputs": [],
   "source": [
    "merge('benchpress/benchpress_coords.csv', 'benchpress/benchpress_coords_merged.csv')\n",
    "merge('deadlift/deadlift_coords.csv', 'deadlift/deadlift_coords_merged.csv')\n",
    "merge('squat/squat_coords.csv', 'squat/squat_coords_merged.csv')"
   ]
  }
 ],
 "metadata": {
  "kernelspec": {
   "display_name": "Python 3 (ipykernel)",
   "language": "python",
   "name": "python3"
  },
  "language_info": {
   "codemirror_mode": {
    "name": "ipython",
    "version": 3
   },
   "file_extension": ".py",
   "mimetype": "text/x-python",
   "name": "python",
   "nbconvert_exporter": "python",
   "pygments_lexer": "ipython3",
   "version": "3.9.23"
  }
 },
 "nbformat": 4,
 "nbformat_minor": 5
}
